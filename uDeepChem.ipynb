{
 "cells": [
  {
   "cell_type": "code",
   "execution_count": null,
   "id": "4647d645-8b54-450c-b61c-629348f0a108",
   "metadata": {},
   "outputs": [],
   "source": [
    "#######################################\n",
    "# Activity Prediction using DeepChem  #\n",
    "# @author: A.Prof. Tran Van Lang, PhD #\n",
    "# File: usingDeepChem.py              #\n",
    "#######################################\n",
    "\n",
    "import pandas as pd\n",
    "import csv\n",
    "from time import time\n",
    "\n",
    "import numpy as np"
   ]
  },
  {
   "cell_type": "code",
   "execution_count": null,
   "id": "75857dbb-4e46-41a0-b8e4-7286e29cbc79",
   "metadata": {},
   "outputs": [],
   "source": [
    "path = 'data/BioassayDatasets/AID456red'\n",
    "df_train = pd.read_csv( path + '_train.csv')\n",
    "df_test  = pd.read_csv( path + '_test.csv' )\n",
    "\n",
    "# Delete the missing values datapoint\n",
    "df_train.dropna(inplace=True)\n",
    "df_test.dropna(inplace=True)\n",
    "\n",
    "# Split the dataset into features and labels\n",
    "X_tr = df_train.drop('Outcome', axis=1)\n",
    "X_te = df_test.drop('Outcome', axis=1)\n",
    "\n",
    "y_tr = df_train['Outcome']\n",
    "y_te = df_test['Outcome']\n",
    "\n",
    "# Convert the features and labels to NumPy arrays\n",
    "X_train = np.array(X_tr)\n",
    "y_train = np.array(y_tr)\n",
    "\n",
    "X_test = np.array(X_te)\n",
    "y_test = np.array(y_te)\n",
    "\n",
    "y_train = np.where(y_train == 'Active', 0, 1)\n",
    "y_test = np.where(y_test == 'Active', 0, 1)\n",
    "\n",
    "results = []\n",
    "\n",
    "print(\"Số lượng mẫu dùng huấn luyện:\", len(X_train))\n",
    "num_minority_samples = np.sum(y_train==0)\n",
    "num_majority_samples = np.sum(y_train==1)\n",
    "print( 'Số mẫu của 2 nhãn là %d và %d' % (num_minority_samples,num_majority_samples) )"
   ]
  },
  {
   "cell_type": "code",
   "execution_count": 2,
   "id": "c54da33f-f934-4381-8a72-c74cca7fd4fa",
   "metadata": {},
   "outputs": [
    {
     "name": "stdout",
     "output_type": "stream",
     "text": [
      "\u001b[33mWARNING: Skipping /opt/homebrew/lib/python3.11/site-packages/PyYAML-6.0-py3.11.egg-info due to invalid metadata entry 'name'\u001b[0m\u001b[33m\n",
      "\u001b[0m\u001b[33mWARNING: Skipping /opt/homebrew/lib/python3.11/site-packages/pycparser-2.21-py3.11.egg-info due to invalid metadata entry 'name'\u001b[0m\u001b[33m\n",
      "\u001b[0m\u001b[33mWARNING: Skipping /opt/homebrew/lib/python3.11/site-packages/PyYAML-6.0-py3.11.egg-info due to invalid metadata entry 'name'\u001b[0m\u001b[33m\n",
      "\u001b[0m\u001b[33mWARNING: Skipping /opt/homebrew/lib/python3.11/site-packages/pycparser-2.21-py3.11.egg-info due to invalid metadata entry 'name'\u001b[0m\u001b[33m\n",
      "\u001b[0m\u001b[33mWARNING: Skipping /opt/homebrew/lib/python3.11/site-packages/typing_extensions-4.7.0.dist-info due to invalid metadata entry 'name'\u001b[0m\u001b[33m\n",
      "\u001b[0m\u001b[33mWARNING: Skipping /opt/homebrew/lib/python3.11/site-packages/cffi-1.15.1-py3.11.egg-info due to invalid metadata entry 'name'\u001b[0m\u001b[33m\n",
      "\u001b[0mRequirement already satisfied: deepchem in /opt/homebrew/lib/python3.11/site-packages (2.5.0)\n",
      "Requirement already satisfied: joblib in /opt/homebrew/lib/python3.11/site-packages (from deepchem) (1.2.0)\n",
      "Requirement already satisfied: numpy in /opt/homebrew/lib/python3.11/site-packages (from deepchem) (1.23.5)\n",
      "Requirement already satisfied: pandas in /opt/homebrew/lib/python3.11/site-packages (from deepchem) (2.0.2)\n",
      "Requirement already satisfied: scikit-learn in /opt/homebrew/lib/python3.11/site-packages (from deepchem) (1.2.2)\n",
      "Requirement already satisfied: scipy in /opt/homebrew/lib/python3.11/site-packages (from deepchem) (1.10.1)\n",
      "Requirement already satisfied: python-dateutil>=2.8.2 in /opt/homebrew/lib/python3.11/site-packages (from pandas->deepchem) (2.8.2)\n",
      "Requirement already satisfied: pytz>=2020.1 in /opt/homebrew/lib/python3.11/site-packages (from pandas->deepchem) (2023.3)\n",
      "Requirement already satisfied: tzdata>=2022.1 in /opt/homebrew/lib/python3.11/site-packages (from pandas->deepchem) (2023.3)\n",
      "Requirement already satisfied: threadpoolctl>=2.0.0 in /opt/homebrew/lib/python3.11/site-packages (from scikit-learn->deepchem) (3.1.0)\n",
      "Requirement already satisfied: six>=1.5 in /opt/homebrew/lib/python3.11/site-packages (from python-dateutil>=2.8.2->pandas->deepchem) (1.16.0)\n",
      "\u001b[33mWARNING: Skipping /opt/homebrew/lib/python3.11/site-packages/PyYAML-6.0-py3.11.egg-info due to invalid metadata entry 'name'\u001b[0m\u001b[33m\n",
      "\u001b[0m\u001b[33mWARNING: Skipping /opt/homebrew/lib/python3.11/site-packages/pycparser-2.21-py3.11.egg-info due to invalid metadata entry 'name'\u001b[0m\u001b[33m\n",
      "\u001b[0m\u001b[33mWARNING: Skipping /opt/homebrew/lib/python3.11/site-packages/typing_extensions-4.7.0.dist-info due to invalid metadata entry 'name'\u001b[0m\u001b[33m\n",
      "\u001b[0m\u001b[33mWARNING: Skipping /opt/homebrew/lib/python3.11/site-packages/cffi-1.15.1-py3.11.egg-info due to invalid metadata entry 'name'\u001b[0m\u001b[33m\n",
      "\u001b[0m\u001b[33mWARNING: Skipping /opt/homebrew/lib/python3.11/site-packages/PyYAML-6.0-py3.11.egg-info due to invalid metadata entry 'name'\u001b[0m\u001b[33m\n",
      "\u001b[0m\u001b[33mWARNING: Skipping /opt/homebrew/lib/python3.11/site-packages/pycparser-2.21-py3.11.egg-info due to invalid metadata entry 'name'\u001b[0m\u001b[33m\n",
      "\u001b[0m\u001b[33mWARNING: Skipping /opt/homebrew/lib/python3.11/site-packages/PyYAML-6.0-py3.11.egg-info due to invalid metadata entry 'name'\u001b[0m\u001b[33m\n",
      "\u001b[0m\u001b[33mWARNING: Skipping /opt/homebrew/lib/python3.11/site-packages/pycparser-2.21-py3.11.egg-info due to invalid metadata entry 'name'\u001b[0m\u001b[33m\n",
      "\u001b[0m\u001b[33mWARNING: Skipping /opt/homebrew/lib/python3.11/site-packages/PyYAML-6.0-py3.11.egg-info due to invalid metadata entry 'name'\u001b[0m\u001b[33m\n",
      "\u001b[0m\u001b[33mWARNING: Skipping /opt/homebrew/lib/python3.11/site-packages/pycparser-2.21-py3.11.egg-info due to invalid metadata entry 'name'\u001b[0m\u001b[33m\n",
      "\u001b[0mNote: you may need to restart the kernel to use updated packages.\n"
     ]
    }
   ],
   "source": [
    "pip install --upgrade deepchem"
   ]
  },
  {
   "cell_type": "code",
   "execution_count": 6,
   "id": "1f095635-324f-46a1-8fc2-e3cda026e6a3",
   "metadata": {},
   "outputs": [
    {
     "ename": "ModuleNotFoundError",
     "evalue": "No module named 'deepchem.featurizers'",
     "output_type": "error",
     "traceback": [
      "\u001b[0;31m---------------------------------------------------------------------------\u001b[0m",
      "\u001b[0;31mModuleNotFoundError\u001b[0m                       Traceback (most recent call last)",
      "Cell \u001b[0;32mIn[6], line 3\u001b[0m\n\u001b[1;32m      1\u001b[0m \u001b[38;5;28;01mimport\u001b[39;00m \u001b[38;5;21;01mpandas\u001b[39;00m \u001b[38;5;28;01mas\u001b[39;00m \u001b[38;5;21;01mpd\u001b[39;00m\n\u001b[1;32m      2\u001b[0m \u001b[38;5;28;01mfrom\u001b[39;00m \u001b[38;5;21;01mdeepchem\u001b[39;00m\u001b[38;5;21;01m.\u001b[39;00m\u001b[38;5;21;01mmodels\u001b[39;00m \u001b[38;5;28;01mimport\u001b[39;00m GraphConvModel\n\u001b[0;32m----> 3\u001b[0m \u001b[38;5;28;01mfrom\u001b[39;00m \u001b[38;5;21;01mdeepchem\u001b[39;00m\u001b[38;5;21;01m.\u001b[39;00m\u001b[38;5;21;01mfeaturizers\u001b[39;00m\u001b[38;5;21;01m.\u001b[39;00m\u001b[38;5;21;01mrdkit_descriptors\u001b[39;00m \u001b[38;5;28;01mimport\u001b[39;00m RDKitDescriptors\n\u001b[1;32m      5\u001b[0m \u001b[38;5;66;03m# Load the training and test data\u001b[39;00m\n\u001b[1;32m      6\u001b[0m path \u001b[38;5;241m=\u001b[39m \u001b[38;5;124m'\u001b[39m\u001b[38;5;124mdata/BioassayDatasets/AID456red\u001b[39m\u001b[38;5;124m'\u001b[39m\n",
      "\u001b[0;31mModuleNotFoundError\u001b[0m: No module named 'deepchem.featurizers'"
     ]
    }
   ],
   "source": [
    "import pandas as pd\n",
    "from deepchem.models import GraphConvModel\n",
    "from deepchem.featurizers.rdkit_descriptors import RDKitDescriptors\n",
    "\n",
    "# Load the training and test data\n",
    "path = 'data/BioassayDatasets/AID456red'\n",
    "df_train = pd.read_csv( path + '_train.csv')\n",
    "df_test  = pd.read_csv( path + '_test.csv' )"
   ]
  },
  {
   "cell_type": "code",
   "execution_count": 4,
   "id": "ab24ed62-338e-47be-9e45-7b203453511d",
   "metadata": {},
   "outputs": [
    {
     "ename": "SyntaxError",
     "evalue": "invalid syntax (943681844.py, line 17)",
     "output_type": "error",
     "traceback": [
      "\u001b[0;36m  Cell \u001b[0;32mIn[4], line 17\u001b[0;36m\u001b[0m\n\u001b[0;31m    `\u001b[0m\n\u001b[0m    ^\u001b[0m\n\u001b[0;31mSyntaxError\u001b[0m\u001b[0;31m:\u001b[0m invalid syntax\n"
     ]
    }
   ],
   "source": [
    "\n",
    "# Create a molecular graph featurizer\n",
    "featurizer = MolDescriptors(featurizer_type=\"morgan\", radius=2)\n",
    "\n",
    "# Transform the training and test data into molecular graphs\n",
    "train_graphs = featurizer.featurize(df_train)\n",
    "test_graphs = featurizer.featurize(df_test)\n",
    "\n",
    "# Create a graph convolutional model\n",
    "model = GraphConvModel(n_features=featurizer.n_features,\n",
    "                         n_tasks=1,\n",
    "                         n_layers=3,\n",
    "                         learning_rate=0.001,\n",
    "                         dropout_rate=0.1)\n",
    "\n",
    "# Train the model on the training data\n",
    "model.fit(train_graphs, train_df[\"Outcome\"])\n",
    "`\n",
    "# Evaluate the model on the test data\n",
    "predictions = model.predict(test_graphs)\n",
    "\n",
    "# Calculate the accuracy of the model\n",
    "accuracy = (predictions == test_df[\"Outcome\"]).mean()\n",
    "\n",
    "print(\"Accuracy:\", accuracy)\n"
   ]
  },
  {
   "cell_type": "code",
   "execution_count": null,
   "id": "bd6258f0-5d11-4b18-9e74-bd0611f11f00",
   "metadata": {},
   "outputs": [],
   "source": []
  }
 ],
 "metadata": {
  "kernelspec": {
   "display_name": "Python 3 (ipykernel)",
   "language": "python",
   "name": "python3"
  },
  "language_info": {
   "codemirror_mode": {
    "name": "ipython",
    "version": 3
   },
   "file_extension": ".py",
   "mimetype": "text/x-python",
   "name": "python",
   "nbconvert_exporter": "python",
   "pygments_lexer": "ipython3",
   "version": "3.11.4"
  }
 },
 "nbformat": 4,
 "nbformat_minor": 5
}
